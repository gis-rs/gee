{
  "cells": [
    {
      "cell_type": "markdown",
      "metadata": {
        "id": "view-in-github",
        "colab_type": "text"
      },
      "source": [
        "<a href=\"https://colab.research.google.com/github/gis-rs/gee/blob/main/DEM_download_for_Study_area_using_gee_in_colab.ipynb\" target=\"_parent\"><img src=\"https://colab.research.google.com/assets/colab-badge.svg\" alt=\"Open In Colab\"/></a>"
      ]
    },
    {
      "cell_type": "code",
      "execution_count": null,
      "metadata": {
        "id": "kK3woIONyGpv"
      },
      "outputs": [],
      "source": [
        "import ee\n",
        "import geemap\n",
        "\n",
        "# Initialize GEE\n",
        "ee.Authenticate()\n",
        "ee.Initialize(project=\"your_project_id\")\n",
        "\n",
        "# Create an interactive map\n",
        "Map = geemap.Map()\n",
        "Map"
      ]
    },
    {
      "cell_type": "code",
      "execution_count": null,
      "metadata": {
        "id": "qwRiYVEKyGpx"
      },
      "outputs": [],
      "source": [
        "roi = ee.FeatureCollection(Map.draw_last_feature)\n",
        "print(roi)"
      ]
    },
    {
      "cell_type": "code",
      "execution_count": null,
      "metadata": {
        "id": "NPCF7agryGpy"
      },
      "outputs": [],
      "source": [
        "# Add Earth Engine dataset\n",
        "image = ee.Image(\"USGS/SRTMGL1_003\")\n",
        "\n",
        "# Set visualization parameters.\n",
        "vis_params = {\n",
        "    \"min\": 0,\n",
        "    \"max\": 4000,\n",
        "    \"palette\": [\"006633\", \"E5FFCC\", \"662A00\", \"D8D8D8\", \"F5F5F5\"],\n",
        "}\n",
        "\n",
        "# Add Earth Engine DEM to map\n",
        "Map.addLayer(image.clip(roi), vis_params, \"SRTM DEM\")\n",
        "Map.centerObject(roi)\n",
        "Map"
      ]
    },
    {
      "cell_type": "code",
      "execution_count": null,
      "metadata": {
        "id": "TPTx9kROyGpy"
      },
      "outputs": [],
      "source": [
        "import os\n",
        "out_dir = \"/content/\"\n",
        "filename = os.path.join(out_dir, \"dem.tif\")\n",
        "geemap.ee_export_image(\n",
        "    image, filename=filename, scale=90, region=roi.geometry(), file_per_band=False\n",
        ")"
      ]
    },
    {
      "cell_type": "code",
      "execution_count": null,
      "metadata": {
        "id": "g02DaotEyGp0"
      },
      "outputs": [],
      "source": []
    }
  ],
  "metadata": {
    "kernelspec": {
      "display_name": "ArcGISPro",
      "language": "python",
      "name": "python3"
    },
    "language_info": {
      "file_extension": ".py",
      "mimetype": "text/x-python",
      "name": "python",
      "version": "3.11.10"
    },
    "colab": {
      "provenance": [],
      "include_colab_link": true
    }
  },
  "nbformat": 4,
  "nbformat_minor": 0
}